{
 "cells": [
  {
   "cell_type": "code",
   "execution_count": 1,
   "metadata": {},
   "outputs": [],
   "source": [
    "import uproot\n",
    "import numpy as np\n",
    "import matplotlib.pyplot as plt\n",
    "import pandas\n",
    "import matplotlib.colors as colors\n",
    "from tqdm import tqdm"
   ]
  },
  {
   "cell_type": "code",
   "execution_count": 2,
   "metadata": {},
   "outputs": [],
   "source": [
    "def extract_all_light(filename, edep_thr_scint=0, edep_thr_BGO=0,  particles=0, verbose=False, default=-1000):\n",
    "      \n",
    "    #BGO and plastic scintillators detector IDs\n",
    "    detIDmin_BGO = 906\n",
    "    detIDmax_BGO = 921\n",
    "    detIDmin_scint = 903\n",
    "    detIDmax_scint = 904\n",
    "        \n",
    "    file = uproot.open(filename)\n",
    "    tree = file[\"t1\"]\n",
    "    df1 = tree.pandas.df([b'save_particleID',b'save_detID',b'save_edep',b'save_z',b'save_time'])\n",
    "\n",
    "    #save the particle pdg ID, the detector ID and the x,y,z positions\n",
    "    #of the hits in the target and in the scintillators\n",
    "\n",
    "    pID_all = tree[b'save_particleID'].array()\n",
    "    detID_all = tree[b'save_detID'].array()\n",
    "    edep_all = tree[b'save_edep'].array()\n",
    "    z_all = tree[b'save_z'].array()\n",
    "    t_all = tree[b'save_time'].array()\n",
    "    evID = 0\n",
    "        \n",
    "    #for each mu+ hitting the target (particleID -13, detID 901):\n",
    "    #look at edep of gammas (particleID 22) in the BGOs (detID 905 to 922)\n",
    "    \n",
    "    eventID_list = []\n",
    "    sum_edep_scint_list = []\n",
    "    z_mean_scint_list = []\n",
    "    t_mean_scint_list = []\n",
    "    sum_edep_BGO_list = []\n",
    "    z_mean_BGO_list = []\n",
    "    t_mean_BGO_list = []\n",
    "    \n",
    "    #loop in each event\n",
    "    for pID_list, detID_list, edep_list, z_list, t_list in tqdm(zip(pID_all, detID_all, edep_all, z_all, t_all), total=len(pID_all)):\n",
    "        \n",
    "        ismuon = False\n",
    "        isscint = False\n",
    "        isBGO = False\n",
    "        #scint\n",
    "        sum_edep_scint = 0\n",
    "        sum_z_scint = 0\n",
    "        sum_t_scint = 0\n",
    "        count_scint = 0\n",
    "        #BGOs\n",
    "        sum_edep_BGO = 0\n",
    "        sum_z_BGO = 0\n",
    "        sum_t_BGO = 0\n",
    "        count_BGO = 0\n",
    "        \n",
    "        #loop in each hit of the event\n",
    "        for pID, detID, edep, zhit, thit in zip(pID_list, detID_list, edep_list, z_list, t_list):\n",
    "            #ismuon False until it's True, then stays True\n",
    "            if ismuon == False:\n",
    "                #check if a muon hits the target\n",
    "                ismuon = (pID == -13 and detID == 901) \n",
    "            if ismuon == True:\n",
    "                #check for detector\n",
    "                isscint = (detID >= detIDmin_scint and detID <= detIDmax_scint)\n",
    "                isBGO = (detID >= detIDmin_BGO and detID <= detIDmax_BGO)\n",
    "                #check for particle\n",
    "                isParticle = True\n",
    "                if particles != 0:\n",
    "                    isParticle = (pID in particles)\n",
    "                #if when mu hits target, particle passes through a scintillator or BGO, save info\n",
    "                if (isParticle and isscint):\n",
    "                    sum_edep_scint += edep\n",
    "                    sum_z_scint += zhit\n",
    "                    sum_t_scint += thit\n",
    "                    count_scint += 1\n",
    "                if (isParticle and isBGO):\n",
    "                    sum_edep_BGO += edep\n",
    "                    sum_z_BGO += zhit\n",
    "                    sum_t_BGO += thit\n",
    "                    count_BGO += 1\n",
    "        \n",
    "        if sum_edep_scint >= edep_thr_scint and sum_edep_BGO >= edep_thr_BGO:       \n",
    "            eventID_list.append(evID)\n",
    "            sum_edep_scint_list.append(sum_edep_scint)\n",
    "            z_mean_scint_list.append(sum_z_scint/count_scint) if count_scint != 0 else z_mean_scint_list.append(default)\n",
    "            t_mean_scint_list.append(sum_t_scint/count_scint) if count_scint != 0 else t_mean_scint_list.append(default)\n",
    "            sum_edep_BGO_list.append(sum_edep_BGO)\n",
    "            z_mean_BGO_list.append(sum_z_BGO/count_BGO) if count_BGO != 0 else z_mean_BGO_list.append(default)\n",
    "            t_mean_BGO_list.append(sum_t_BGO/count_BGO) if count_BGO != 0 else t_mean_BGO_list.append(default)\n",
    "            \n",
    "        evID+=1 \n",
    "            \n",
    "        if verbose == True:\n",
    "            if evID % 100000 == 0:\n",
    "                print(evID)\n",
    "        \n",
    "    return eventID_list, sum_edep_scint_list, z_mean_scint_list, t_mean_scint_list, sum_edep_BGO_list, z_mean_BGO_list, t_mean_BGO_list\n"
   ]
  },
  {
   "cell_type": "code",
   "execution_count": 3,
   "metadata": {},
   "outputs": [],
   "source": [
    "def extract_all(filename, edep_thr_scint=0, edep_thr_BGO=0,  particles=0, verbose=False, default=-1000):\n",
    "      \n",
    "    #BGO and plastic scintillators detector IDs\n",
    "    detIDmin_BGO = 906\n",
    "    detIDmax_BGO = 921\n",
    "    detIDmin_scint = 903\n",
    "    detIDmax_scint = 904\n",
    "        \n",
    "    file = uproot.open(filename)\n",
    "    tree = file[\"t1\"]\n",
    "    df1 = tree.pandas.df([b'save_*'])\n",
    "\n",
    "    #save the particle pdg ID, the detector ID and the x,y,z positions\n",
    "    #of the hits in the target and in the scintillators\n",
    "\n",
    "    pID_all = tree[b'save_particleID'].array()\n",
    "    detID_all = tree[b'save_detID'].array()\n",
    "    edep_all = tree[b'save_edep'].array()\n",
    "    x_all = tree[b'save_x'].array()\n",
    "    y_all = tree[b'save_y'].array()\n",
    "    z_all = tree[b'save_z'].array()\n",
    "    t_all = tree[b'save_time'].array()\n",
    "    evID = 0\n",
    "        \n",
    "    #for each mu+ hitting the target (particleID -13, detID 901):\n",
    "    #look at edep of gammas (particleID 22) in the BGOs (detID 905 to 922)\n",
    "    \n",
    "    eventID_list = []\n",
    "    sum_edep_scint_list = []\n",
    "    x_mean_scint_list = []\n",
    "    y_mean_scint_list = []\n",
    "    z_mean_scint_list = []\n",
    "    t_mean_scint_list = []\n",
    "    sum_edep_BGO_list = []\n",
    "    x_mean_BGO_list = []\n",
    "    y_mean_BGO_list = []\n",
    "    z_mean_BGO_list = []\n",
    "    t_mean_BGO_list = []\n",
    "    \n",
    "    #loop in each event\n",
    "    for pID_list, detID_list, edep_list, x_list, y_list, z_list, t_list in tqdm(zip(pID_all, detID_all, edep_all, x_all, y_all, z_all, t_all), total=len(pID_all)):\n",
    "        \n",
    "        ismuon = False\n",
    "        isscint = False\n",
    "        isBGO = False\n",
    "        #scint\n",
    "        sum_edep_scint = 0\n",
    "        sum_x_scint = 0\n",
    "        sum_y_scint = 0\n",
    "        sum_z_scint = 0\n",
    "        sum_t_scint = 0\n",
    "        count_scint = 0\n",
    "        #BGOs\n",
    "        sum_edep_BGO = 0\n",
    "        sum_x_BGO = 0\n",
    "        sum_y_BGO = 0\n",
    "        sum_z_BGO = 0\n",
    "        sum_t_BGO = 0\n",
    "        count_BGO = 0\n",
    "        \n",
    "        #loop in each hit of the event\n",
    "        for pID, detID, edep, xhit, yhit, zhit, thit in zip(pID_list, detID_list, edep_list, x_list, y_list, z_list, t_list):\n",
    "            #ismuon False until it's True, then stays True\n",
    "            if ismuon == False:\n",
    "                #check if a muon hits the target\n",
    "                ismuon = (pID == -13 and detID == 901) \n",
    "            if ismuon == True:\n",
    "                #check for detector\n",
    "                isscint = (detID >= detIDmin_scint and detID <= detIDmax_scint)\n",
    "                isBGO = (detID >= detIDmin_BGO and detID <= detIDmax_BGO)\n",
    "                #check for particle\n",
    "                isParticle = True\n",
    "                if particles != 0:\n",
    "                    isParticle = (pID in particles)\n",
    "                #if when mu hits target, particle passes through a scintillator or BGO, save info\n",
    "                if (isParticle and isscint):\n",
    "                    sum_edep_scint += edep\n",
    "                    sum_x_scint += xhit\n",
    "                    sum_y_scint += yhit\n",
    "                    sum_z_scint += zhit\n",
    "                    sum_t_scint += thit\n",
    "                    count_scint += 1\n",
    "                if (isParticle and isBGO):\n",
    "                    sum_edep_BGO += edep\n",
    "                    sum_x_BGO += xhit\n",
    "                    sum_y_BGO += yhit\n",
    "                    sum_z_BGO += zhit\n",
    "                    sum_t_BGO += thit\n",
    "                    count_BGO += 1\n",
    "        \n",
    "        if sum_edep_scint >= edep_thr_scint and sum_edep_BGO >= edep_thr_BGO:       \n",
    "            eventID_list.append(evID)\n",
    "            sum_edep_scint_list.append(sum_edep_scint)\n",
    "            x_mean_scint_list.append(sum_x_scint/count_scint) if count_scint != 0 else x_mean_scint_list.append(default)\n",
    "            y_mean_scint_list.append(sum_y_scint/count_scint) if count_scint != 0 else y_mean_scint_list.append(default)\n",
    "            z_mean_scint_list.append(sum_z_scint/count_scint) if count_scint != 0 else z_mean_scint_list.append(default)\n",
    "            t_mean_scint_list.append(sum_t_scint/count_scint) if count_scint != 0 else t_mean_scint_list.append(default)\n",
    "            sum_edep_BGO_list.append(sum_edep_BGO)\n",
    "            x_mean_BGO_list.append(sum_x_BGO/count_BGO) if count_BGO != 0 else x_mean_BGO_list.append(default)\n",
    "            y_mean_BGO_list.append(sum_y_BGO/count_BGO) if count_BGO != 0 else y_mean_BGO_list.append(default)\n",
    "            z_mean_BGO_list.append(sum_z_BGO/count_BGO) if count_BGO != 0 else z_mean_BGO_list.append(default)\n",
    "            t_mean_BGO_list.append(sum_t_BGO/count_BGO) if count_BGO != 0 else t_mean_BGO_list.append(default)\n",
    "            \n",
    "        evID+=1 \n",
    "            \n",
    "        if verbose == True:\n",
    "            if evID % 100000 == 0:\n",
    "                print(evID)\n",
    "        \n",
    "    return eventID_list, sum_edep_scint_list, x_mean_scint_list, y_mean_scint_list, z_mean_scint_list, t_mean_scint_list, sum_edep_BGO_list, x_mean_BGO_list, y_mean_BGO_list, z_mean_BGO_list, t_mean_BGO_list"
   ]
  },
  {
   "cell_type": "code",
   "execution_count": 4,
   "metadata": {},
   "outputs": [],
   "source": [
    "#given the coincidence z and t in the BGOs from the previous function\n",
    "#save the times in downstream/upstream, depending on the z position\n",
    "#useful for Mu formation diagnostic\n",
    "def timediff_distr(dividerdown, dividerup, zhits, thits, default=-1000):\n",
    "    t_down = [] #downstream hit\n",
    "    t_up = [] #upstream hit\n",
    "    for z, t in zip(zhits, thits):\n",
    "        if z > dividerdown:\n",
    "            t_down.append(t)\n",
    "        elif z < dividerup and z!=default:\n",
    "            t_up.append(t)\n",
    "        \n",
    "    return t_down, t_up\n"
   ]
  },
  {
   "cell_type": "code",
   "execution_count": 5,
   "metadata": {},
   "outputs": [],
   "source": [
    "def timediff_distr_new(dividerdown_begin, dividerdown_end, dividerup, zhits, thits, default=-1000):\n",
    "    t_down = [] #downstream hit\n",
    "    t_up = [] #upstream hit\n",
    "    for z, t in zip(zhits, thits):\n",
    "        if z > dividerdown_begin and z < dividerdown_end:\n",
    "            t_down.append(t)\n",
    "        elif z < dividerup and z!=default:\n",
    "            t_up.append(t)\n",
    "        \n",
    "    return t_down, t_up"
   ]
  },
  {
   "cell_type": "markdown",
   "metadata": {},
   "source": [
    "## Time asymmetry in BGOs with coincidences in scintillator"
   ]
  },
  {
   "cell_type": "code",
   "execution_count": 6,
   "metadata": {},
   "outputs": [
    {
     "name": "stderr",
     "output_type": "stream",
     "text": [
      "100%|██████████| 1000000/1000000 [03:05<00:00, 5377.78it/s]\n"
     ]
    }
   ],
   "source": [
    "filename_list = [\"musr_2.root\"]\n",
    "\n",
    "coords0 = extract_all_light(filename_list[0], edep_thr_scint=1.5)\n"
   ]
  },
  {
   "cell_type": "code",
   "execution_count": 7,
   "metadata": {},
   "outputs": [
    {
     "data": {
      "image/png": "[encoded data removed]",
      "text/plain": [
       "<Figure size 432x288 with 1 Axes>"
      ]
     },
     "metadata": {
      "needs_background": "light"
     },
     "output_type": "display_data"
    }
   ],
   "source": [
    "eff_list = [0.0]\n",
    "\n",
    "sum_d_lists = []\n",
    "sum_u_lists = []\n",
    "\n",
    "divider = 153.4\n",
    "step = 28.5\n",
    "#step = 28.5*3\n",
    "#step = 28.5*5\n",
    "divider_down = divider+step\n",
    "divider_up = divider-step\n",
    "#divider_down_begin = divider+step*3\n",
    "#divider_down_end = divider+step*5\n",
    "\n",
    "bins = np.linspace(0,6,100)\n",
    "\n",
    "for coords in [coords0]:\n",
    "    #times = timediff_distr_new(divider_down_begin,divider_down_end, divider_up, coords[5], coords[6])\n",
    "    times = timediff_distr(divider_down, divider_up, coords[5], coords[6])\n",
    "    #downstream\n",
    "    hist0_d = plt.hist(times[0],bins=bins,alpha=0.3)\n",
    "    #upstream\n",
    "    #hist0_u = plt.hist(times[1],bins=bins,alpha=0.3)\n",
    "    #fill lists of lists\n",
    "    sum_d_lists.append(hist0_d[0])\n",
    "    #sum_u_lists.append(hist0_u[0])\n",
    "plt.close()\n",
    "\n",
    "\n",
    "for sum_d_list, eff in zip(sum_d_lists, eff_list):\n",
    "    this_label = \"M eff: \" + str(eff)\n",
    "    plt.plot(bins[:-1], sum_d_list, 'o', label=this_label)\n",
    "\n",
    "x = bins[:-1]\n",
    "y = 180*np.exp(-x/2.2)\n",
    "#plt.plot(x,y,'-', label=\"exp\")\n",
    "plt.title(\"Time distributions of coincidence hits downstream BGOs\")\n",
    "plt.xlabel(\"time [um]\")\n",
    "plt.ylabel(\"counts\")\n",
    "plt.legend()\n",
    "plt.show()"
   ]
  },
  {
   "cell_type": "markdown",
   "metadata": {},
   "source": [
    "## Check vacuum emission"
   ]
  },
  {
   "cell_type": "code",
   "execution_count": 22,
   "metadata": {},
   "outputs": [
    {
     "name": "stdout",
     "output_type": "stream",
     "text": [
      "0.0\n"
     ]
    }
   ],
   "source": [
    "filename = \"musr_2.root\"\n",
    "file = uproot.open(filename)\n",
    "tree = file[\"t1\"]\n",
    "df1 = tree.pandas.df([b'save_particleID',b'save_detID'])\n",
    "\n",
    "#save the particle pdg ID, the detector ID and the x,y,z positions\n",
    "#of the hits in the target and in the scintillators\n",
    "\n",
    "pID_all = tree[b'save_particleID'].array()\n",
    "detID_all = tree[b'save_detID'].array()\n",
    "\n",
    "count = 0\n",
    "\n",
    "for pID_list, detID_list in zip(pID_all, detID_all):\n",
    "    z_target = []\n",
    "    for pID, detID in zip(pID_list, detID_list):\n",
    "        if pID == -1313 and detID == 700:\n",
    "            count+=1\n",
    "\n",
    "print(count/len(pID_all))"
   ]
  },
  {
   "cell_type": "markdown",
   "metadata": {},
   "source": [
    "## BGOs"
   ]
  },
  {
   "cell_type": "code",
   "execution_count": 26,
   "metadata": {},
   "outputs": [
    {
     "name": "stderr",
     "output_type": "stream",
     "text": [
      "100%|██████████| 10000/10000 [00:02<00:00, 3992.30it/s]\n",
      "100%|██████████| 10000/10000 [00:02<00:00, 3596.21it/s]\n",
      "100%|██████████| 10000/10000 [00:03<00:00, 2800.49it/s]\n"
     ]
    }
   ],
   "source": [
    "filename_1 = \"musr_1.root\"\n",
    "filename_2 = \"musr_2.root\"\n",
    "filename_3 = \"musr_3.root\"\n",
    "#filename_4 = \"musr_4.root\"\n",
    "#filename_5 = \"musr_5.root\"\n",
    "#filename_6 = \"musr_6.root\"\n",
    "#filename_7 = \"musr_7.root\"\n",
    "data_1 = extract_all(filename_1)\n",
    "data_2 = extract_all(filename_2)\n",
    "data_3 = extract_all(filename_3)\n",
    "#data_4 = extract_all(filename_4)\n",
    "#data_5 = extract_all(filename_5)\n",
    "#data_6 = extract_all(filename_6)\n",
    "#data_7 = extract_all(filename_7)"
   ]
  },
  {
   "cell_type": "code",
   "execution_count": 28,
   "metadata": {},
   "outputs": [
    {
     "data": {
      "image/png": "[encoded data removed]",
      "text/plain": [
       "<Figure size 432x288 with 1 Axes>"
      ]
     },
     "metadata": {
      "needs_background": "light"
     },
     "output_type": "display_data"
    },
    {
     "data": {
      "image/png": "[encoded data removed]",
      "text/plain": [
       "<Figure size 432x288 with 1 Axes>"
      ]
     },
     "metadata": {
      "needs_background": "light"
     },
     "output_type": "display_data"
    }
   ],
   "source": [
    "plt.hist(data_6[6],bins=50,range=[0.001,2], alpha=0.3)\n",
    "#plt.hist(edep_1,bins=50, alpha=0.3)\n",
    "plt.title(\"Energy deposited in BGOs\")\n",
    "plt.xlabel(\"energy [MeV]\")\n",
    "plt.ylabel(\"counts\")\n",
    "plt.show()\n",
    "\n",
    "cumul = []\n",
    "x_axes = np.linspace(0,2,41)\n",
    "for threshold in x_axes:\n",
    "    edep_above_thr = [x for x in data_1[6] if x > threshold]\n",
    "    cumul.append(len(edep_above_thr)/(data_1[0])[-1]*100)\n",
    "\n",
    "plt.plot(x_axes, cumul, 'o-', label='1 BGOs')\n",
    "\n",
    "\n",
    "cumul = []\n",
    "x_axes = np.linspace(0,2,41)\n",
    "for threshold in x_axes:\n",
    "    edep_above_thr = [x for x in data_2[6] if x > threshold]\n",
    "    cumul.append(len(edep_above_thr)/(data_2[0])[-1]*100)\n",
    "\n",
    "plt.plot(x_axes, cumul, 'o-', label='2 BGOs')\n",
    "\n",
    "\n",
    "cumul = []\n",
    "x_axes = np.linspace(0,2,41)\n",
    "for threshold in x_axes:\n",
    "    edep_above_thr = [x for x in data_3[6] if x > threshold]\n",
    "    cumul.append(len(edep_above_thr)/(data_3[0])[-1]*100)\n",
    "\n",
    "plt.plot(x_axes, cumul, 'o-', label='3 BGOs')\n",
    "\n",
    "\n",
    "cumul = []\n",
    "x_axes = np.linspace(0,2,41)\n",
    "for threshold in x_axes:\n",
    "    edep_above_thr = [x for x in data_4[6] if x > threshold]\n",
    "    cumul.append(len(edep_above_thr)/(data_4[0])[-1]*100)\n",
    "\n",
    "plt.plot(x_axes, cumul, 'o-', label='4 BGOs')\n",
    "\n",
    "\n",
    "cumul = []\n",
    "x_axes = np.linspace(0,2,41)\n",
    "for threshold in x_axes:\n",
    "    edep_above_thr = [x for x in data_5[6] if x > threshold]\n",
    "    cumul.append(len(edep_above_thr)/(data_5[0])[-1]*100)\n",
    "\n",
    "plt.plot(x_axes, cumul, 'o-', label='5 BGOs')\n",
    "\n",
    "cumul = []\n",
    "x_axes = np.linspace(0,2,41)\n",
    "for threshold in x_axes:\n",
    "    edep_above_thr = [x for x in data_6[6] if x > threshold]\n",
    "    cumul.append(len(edep_above_thr)/(data_6[0])[-1]*100)\n",
    "\n",
    "plt.plot(x_axes, cumul, 'o-', label='6 BGOs')\n",
    "\n",
    "\n",
    "cumul = []\n",
    "x_axes = np.linspace(0,2,41)\n",
    "for threshold in x_axes:\n",
    "    edep_above_thr = [x for x in data_7[6] if x > threshold]\n",
    "    cumul.append(len(edep_above_thr)/(data_7[0])[-1]*100)\n",
    "\n",
    "plt.plot(x_axes, cumul, 'o-', label='7 BGOs')\n",
    "\n",
    "\n",
    "\n",
    "plt.title(\"BGO efficiency\")\n",
    "plt.xlabel(\"Energy threshold [keV]\")\n",
    "plt.ylabel(\"BGO efficiency %\")\n",
    "\n",
    "plt.legend()\n",
    "\n",
    "plt.show()"
   ]
  },
  {
   "cell_type": "code",
   "execution_count": 67,
   "metadata": {},
   "outputs": [
    {
     "data": {
      "image/png": "[encoded data removed]",
      "text/plain": [
       "<Figure size 432x288 with 1 Axes>"
      ]
     },
     "metadata": {
      "needs_background": "light"
     },
     "output_type": "display_data"
    },
    {
     "data": {
      "image/png": "[encoded data removed]",
      "text/plain": [
       "<Figure size 432x288 with 1 Axes>"
      ]
     },
     "metadata": {
      "needs_background": "light"
     },
     "output_type": "display_data"
    }
   ],
   "source": [
    "#energy threshold\n",
    "bkg_sampling = [0,0.05,0.1,0.2,0.3,0.5,1,1.5,2]\n",
    "#number of bkg counts per BGO per second, given energy threshold\n",
    "#(integral of number of bkg counts per second above threshold)\n",
    "bkg_points = [120,100,70,40,32,19,10,5,3]\n",
    "\n",
    "# make plot as dense as efficiency one\n",
    "\n",
    "bkg_interp = np.interp(x_axes, bkg_sampling, bkg_points)\n",
    "\n",
    "plt.plot(x_axes, bkg_interp, 'o-')\n",
    "plt.title(\"BGO noise (Laura Sinkunaite)\")\n",
    "plt.xlabel(\"Energy threshold [keV]\")\n",
    "plt.ylabel(\"bkg counts /sec per BGO\")\n",
    "plt.show()\n",
    "\n",
    "\n",
    "#make plot of efficiency/bkg vs energy threshold\n",
    "\n",
    "plt.plot(x_axes, cumul/bkg_interp, 'o-')\n",
    "plt.xlabel(\"Energy threshold [keV]\")\n",
    "plt.ylabel(\"eff / bkg counts per sec\")\n",
    "plt.show()\n",
    "\n",
    "\n"
   ]
  },
  {
   "cell_type": "markdown",
   "metadata": {},
   "source": [
    "## Scintillators"
   ]
  },
  {
   "cell_type": "code",
   "execution_count": null,
   "metadata": {},
   "outputs": [],
   "source": [
    "filename_eff0 = \"musr_2.root\"\n",
    "data_0 = extract_all(filename_eff0)\n",
    "data_0_pos = extract_all(filename_eff0, particles=[-11])\n",
    "data_0_el = extract_all(filename_eff0, particles=[11])"
   ]
  },
  {
   "cell_type": "code",
   "execution_count": 29,
   "metadata": {},
   "outputs": [
    {
     "data": {
      "image/png": "[encoded data removed]",
      "text/plain": [
       "<Figure size 432x288 with 1 Axes>"
      ]
     },
     "metadata": {
      "needs_background": "light"
     },
     "output_type": "display_data"
    },
    {
     "data": {
      "image/png": "[encoded data removed]",
      "text/plain": [
       "<Figure size 432x288 with 1 Axes>"
      ]
     },
     "metadata": {
      "needs_background": "light"
     },
     "output_type": "display_data"
    }
   ],
   "source": [
    "plt.hist(data_6[1],bins=50, range=[0.001,5],alpha=0.3, label='total')\n",
    "plt.title(\"Energy deposited in scintillators\")\n",
    "plt.xlabel(\"energy [MeV]\")\n",
    "plt.ylabel(\"counts\")\n",
    "plt.legend()\n",
    "plt.show()\n",
    "\n",
    "cumul = []\n",
    "x_axes = np.linspace(0,5,41)\n",
    "for threshold in x_axes:\n",
    "    edep_above_thr = [x for x in data_6[1] if x > threshold]\n",
    "    cumul.append(len(edep_above_thr)/(data_6[0])[-1]*100)\n",
    "\n",
    "plt.plot(x_axes, cumul, 'o-')\n",
    "plt.title('Scintillators efficiency')\n",
    "plt.xlabel(\"Energy threshold [keV]\")\n",
    "plt.ylabel(\"Scintillators efficiency %\")\n",
    "plt.show()"
   ]
  },
  {
   "cell_type": "code",
   "execution_count": null,
   "metadata": {},
   "outputs": [],
   "source": []
  },
  {
   "cell_type": "code",
   "execution_count": null,
   "metadata": {},
   "outputs": [],
   "source": [
    "plt.hist(data_0_pos[1],bins=50,range=[0.001,5], alpha=0.3, label='positrons')\n",
    "plt.hist(data_0_el[1],bins=50,range=[0.001,5], alpha=0.3, label='electrons')\n",
    "plt.title(\"Energy deposited in scintillators\")\n",
    "plt.xlabel(\"energy [MeV]\")\n",
    "plt.ylabel(\"counts\")\n",
    "plt.legend()\n",
    "plt.show()\n",
    "\n",
    "\n",
    "plt.hist(data_0[1],bins=50, range=[0.001,5],alpha=0.3, label='total')\n",
    "plt.title(\"Energy deposited in scintillators\")\n",
    "plt.xlabel(\"energy [MeV]\")\n",
    "plt.ylabel(\"counts\")\n",
    "plt.legend()\n",
    "plt.show()\n",
    "\n",
    "\n",
    "\n"
   ]
  },
  {
   "cell_type": "code",
   "execution_count": null,
   "metadata": {},
   "outputs": [],
   "source": [
    "cumul = []\n",
    "x_axes = np.linspace(0,5,41)\n",
    "for threshold in x_axes:\n",
    "    edep_above_thr = [x for x in data_0[1] if x > threshold]\n",
    "    cumul.append(len(edep_above_thr)/(data_0[0])[-1]*100)\n",
    "\n",
    "plt.plot(x_axes, cumul, 'o-')\n",
    "plt.title('Scintillators efficiency')\n",
    "plt.xlabel(\"Energy threshold [keV]\")\n",
    "plt.ylabel(\"Scintillators efficiency %\")\n",
    "plt.show()"
   ]
  },
  {
   "cell_type": "code",
   "execution_count": null,
   "metadata": {},
   "outputs": [],
   "source": []
  }
 ],
 "metadata": {
  "kernelspec": {
   "display_name": "Python 3",
   "language": "python",
   "name": "python3"
  },
  "language_info": {
   "codemirror_mode": {
    "name": "ipython",
    "version": 3
   },
   "file_extension": ".py",
   "mimetype": "text/x-python",
   "name": "python",
   "nbconvert_exporter": "python",
   "pygments_lexer": "ipython3",
   "version": "3.7.3"
  }
 },
 "nbformat": 4,
 "nbformat_minor": 4
}
